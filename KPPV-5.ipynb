{
  "nbformat": 4,
  "nbformat_minor": 0,
  "metadata": {
    "kernelspec": {
      "display_name": "Python 3",
      "language": "python",
      "name": "python3"
    },
    "language_info": {
      "codemirror_mode": {
        "name": "ipython",
        "version": 3
      },
      "file_extension": ".py",
      "mimetype": "text/x-python",
      "name": "python",
      "nbconvert_exporter": "python",
      "pygments_lexer": "ipython3",
      "version": "3.7.4"
    },
    "colab": {
      "name": "KPPV-5.ipynb",
      "provenance": []
    }
  },
  "cells": [
    {
      "cell_type": "markdown",
      "metadata": {
        "id": "PY48fa-gGOiE"
      },
      "source": [
        "\n",
        "\n",
        "# K Nearest Neighbours\n",
        "\n",
        "### L’objectif de ce TD est d'écrire un programme complet de classification d'images à base de KPPV\n",
        "\n",
        "\n",
        "\n"
      ]
    },
    {
      "cell_type": "code",
      "metadata": {
        "id": "u7bZ-PwDGOia"
      },
      "source": [
        "# Importer les libraires nécesssaire:\n",
        "import numpy as np\n",
        "import _pickle as cPickle\n",
        "import pickle\n",
        "from sklearn.model_selection import train_test_split\n",
        "from sklearn.model_selection import KFold\n",
        "\n",
        "from scipy import ndimage as ndi\n",
        "from matplotlib import pyplot as plt\n",
        "import matplotlib.cm as cm\n",
        "\n",
        "from skimage import data\n",
        "from skimage import color\n",
        "from skimage.util import view_as_blocks\n",
        "\n",
        "import io\n",
        "import numpy as np\n",
        "import matplotlib.pyplot as plt\n",
        "import matplotlib.image as mpimg\n",
        "\n",
        "from skimage.transform import rotate\n",
        "from skimage.feature import local_binary_pattern\n",
        "from skimage import data\n",
        "from skimage.color import label2rgb\n",
        "import matplotlib.pyplot as plt\n",
        "import numpy as np\n",
        "\n"
      ],
      "execution_count": null,
      "outputs": []
    },
    {
      "cell_type": "markdown",
      "metadata": {
        "id": "wWI_Ijl0GOif"
      },
      "source": [
        "### La méthode des K plus proches voisins (KNN) a pour but de classifier des points cibles en fonction de leurs distances par rapport à des points constituant un échantillon d’apprentissage "
      ]
    },
    {
      "cell_type": "markdown",
      "metadata": {
        "id": "Z7F0Te3_GOih"
      },
      "source": [
        "# Développement du classifieur"
      ]
    },
    {
      "cell_type": "markdown",
      "metadata": {
        "id": "CichGKkyGOii"
      },
      "source": [
        "## 1- Lecture des données"
      ]
    },
    {
      "cell_type": "markdown",
      "metadata": {
        "id": "k6452eZbGOij"
      },
      "source": [
        "### La fonction lecture_cifar prend en entrée le chemin d'un fichier de donnée et retourne la matrice des variables X et la matrice des classes Y . Elle prend également le soin de convertir la classe int8 en int32 , ce qui sera utile par la suite pour calculer la matrice de distances."
      ]
    },
    {
      "cell_type": "code",
      "metadata": {
        "id": "mFN4rzNmGOin",
        "outputId": "4c34bcd5-50b6-4d6c-8621-ded78442ea2f"
      },
      "source": [
        "def lecture_cifar(path):\n",
        "    dict=[]\n",
        "    for i in range(1,6):\n",
        "        file=path+\"data_batch_\"+str(i)\n",
        "        with open (file,\"rb\") as fo:\n",
        "            dict.append(pickle.load(fo,encoding=\"bytes\"))\n",
        "            \n",
        "    file=path+ \"test_batch\"   \n",
        "    with open (file,\"rb\") as fo:\n",
        "        dict.append(pickle.load(fo,encoding=\"bytes\"))\n",
        "    \n",
        "    X=dict[0][b\"data\"]\n",
        "    Y=dict[0][b\"labels\"]\n",
        "    for i in range(1,6):\n",
        "        X=np.vstack((X,dict[i][b\"data\"]))\n",
        "        Y+=dict[i][b\"labels\"]\n",
        "        \n",
        "    X=np.float32(X)\n",
        "    Y=np.array(Y)\n",
        "        \n",
        "    return X,Y\n",
        "\n",
        "X,Y=lecture_cifar(\"cifar-10-batches-py/\")\n",
        "\n",
        "print(X)\n"
      ],
      "execution_count": null,
      "outputs": [
        {
          "output_type": "stream",
          "text": [
            "[[ 59.  43.  50. ... 140.  84.  72.]\n",
            " [154. 126. 105. ... 139. 142. 144.]\n",
            " [255. 253. 253. ...  83.  83.  84.]\n",
            " ...\n",
            " [ 20.  19.  15. ...  50.  53.  47.]\n",
            " [ 25.  15.  23. ...  80.  81.  80.]\n",
            " [ 73.  98.  99. ...  94.  58.  26.]]\n"
          ],
          "name": "stdout"
        }
      ]
    },
    {
      "cell_type": "code",
      "metadata": {
        "id": "cptpKUadGOiw"
      },
      "source": [
        ""
      ],
      "execution_count": null,
      "outputs": []
    },
    {
      "cell_type": "code",
      "metadata": {
        "id": "vTeCp5-KGOix",
        "outputId": "bd5896cc-66d1-4e75-d0d8-0de347b0659d"
      },
      "source": [
        "print(Y)\n"
      ],
      "execution_count": null,
      "outputs": [
        {
          "output_type": "stream",
          "text": [
            "[6 9 9 ... 5 1 7]\n"
          ],
          "name": "stdout"
        }
      ]
    },
    {
      "cell_type": "markdown",
      "metadata": {
        "id": "P_3K8-X2GOiy"
      },
      "source": [
        "## 2- Découpage des données"
      ]
    },
    {
      "cell_type": "markdown",
      "metadata": {
        "id": "qxHQM_2HGOiz"
      },
      "source": [
        "### il faut découper le jeu de données en un jeu d'apprentissage et un jeu de test. On décide de prendre une proportion de 80% pour le jeu d'apprentissage et de 20% pour le jeu de test. "
      ]
    },
    {
      "cell_type": "code",
      "metadata": {
        "id": "vVDSJtaKGOi1",
        "outputId": "a596e31f-3941-41bf-9f94-6ce64a2bc22a"
      },
      "source": [
        "\"\"\"\n",
        "def decoupage_donnees ( X,Y,ratio=0.8,essai=False):\n",
        "    N=X.shape[0]\n",
        "    indices=np.array(range(N))\n",
        "    np.random.shuffle(indices)\n",
        "    \n",
        "    M=int(ratio*N)\n",
        "    \n",
        "    if(essai):\n",
        "        Xapp=X[idices[:500],:]\n",
        "        Yapp=Y[idices[:500]]\n",
        "        \n",
        "        Xtest=X[idices[-100:],:]\n",
        "        Ytest=Y[idices[-100:]]        \n",
        "\n",
        "        return Xapp, Xtest, Yapp, Yest \n",
        "    \n",
        "    M=int(ratio*N)\n",
        "\n",
        "    Xapp = X[indices[:M],:]\n",
        "    Yapp = Y[indices[:M]]\n",
        "        \n",
        "    Xtest = X[indices[M:],:]\n",
        "    Ytest = Y[indices[M:]]\n",
        "    \n",
        "    return Xapp, Xtest, Yapp, Ytest\n",
        "    \n",
        "\n",
        "Xapp, Xtest, Yapp, Ytest=decoupage_donnees( X,Y)\n",
        "print(Xapp, Xtest, Yapp, Ytest)   \n",
        "\n",
        "\"\"\"\n",
        "\n",
        "def decoupage_donnees(X, Y):\n",
        "    Xapp, Xtest, Yapp, Ytest = train_test_split(X, Y, train_size=0.8, test_size=0.2,\n",
        "    shuffle=False, random_state=None)\n",
        "    return Xapp, Xtest, Yapp, Ytest\n",
        "\n",
        "Xapp, Xtest, Yapp, Ytest= decoupage_donnees(X, Y)\n",
        "\n",
        "Xtest1=Xtest[0:2000,:]\n",
        "Ytest1=Ytest[0:2000]\n",
        "Xapp1=Xapp[0:8000,:]\n",
        "Yapp1=Yapp[0:8000]\n",
        "\n",
        "print(Yapp1.shape)"
      ],
      "execution_count": null,
      "outputs": [
        {
          "output_type": "stream",
          "text": [
            "(8000,)\n"
          ],
          "name": "stdout"
        }
      ]
    },
    {
      "cell_type": "markdown",
      "metadata": {
        "id": "bL8kSdNgGOi2"
      },
      "source": [
        "## 3-kppv_distances"
      ]
    },
    {
      "cell_type": "markdown",
      "metadata": {
        "id": "QPJFgU1EGOi4"
      },
      "source": [
        "### Chaque image est représentée par un vecteur de taille 3072. La distance entre deux images est définie comme la norme euclidienne entre les vecteurs de ces images. Le code ci-dessous calcule la matrice de distance entre le jeu de test et le jeu d'apprentissage. La valeur (i, j) de cette matrice représente la distance (au carré) de la i-ème image du jeu de test par rapport à la j-ème image du jeu d'apprentissage."
      ]
    },
    {
      "cell_type": "code",
      "metadata": {
        "id": "TUZBubs5GOi4",
        "outputId": "a1461429-f6da-404f-9cf3-0dd759950c47"
      },
      "source": [
        "def somme_carres_Xapp(X, d):\n",
        "    A = X**2\n",
        "    Ones = np.ones((d, 1))\n",
        "    B = np.dot(A, Ones)\n",
        "    return B.T\n",
        "def somme_carres_Xtest(X, d):\n",
        "    A = X**2\n",
        "    Ones = np.ones((d, 1))\n",
        "    B = np.dot(A, Ones)\n",
        "    return B\n",
        "def kppv_distances(Xapp, Xtest):\n",
        "    n = Xapp1.shape[0]\n",
        "    m = Xtest1.shape[0]\n",
        "    d = Xapp1.shape[1]\n",
        "    Xprod = np.dot(Xtest1, Xapp.T)\n",
        "    Xapp_carre = somme_carres_Xapp(Xapp1, d)\n",
        "    Xtest_carre = somme_carres_Xtest(Xtest1, d)\n",
        "    return -2*Xprod + Xapp_carre + Xtest_carre\n",
        "\n",
        "Dist = kppv_distances(Xapp1, Xtest1)\n",
        "dist = np.sqrt(Dist)\n",
        "\n",
        "print(Dist)\n"
      ],
      "execution_count": null,
      "outputs": [
        {
          "output_type": "stream",
          "text": [
            "[[2.06765530e+07 2.51649420e+07 3.63458980e+07 ... 2.37991140e+07\n",
            "  2.50497790e+07 3.10197590e+07]\n",
            " [7.35439150e+07 5.55465040e+07 5.43805480e+07 ... 5.22893720e+07\n",
            "  9.93341250e+07 1.00869241e+08]\n",
            " [3.28980470e+07 3.00543080e+07 3.01962320e+07 ... 1.62707120e+07\n",
            "  4.92046690e+07 3.94459250e+07]\n",
            " ...\n",
            " [3.28040050e+07 2.85589300e+07 1.50962300e+07 ... 2.11829580e+07\n",
            "  2.64783670e+07 2.49911870e+07]\n",
            " [3.52449600e+07 2.34845010e+07 2.05867050e+07 ... 2.15630170e+07\n",
            "  4.25614580e+07 4.76523500e+07]\n",
            " [2.28966320e+07 2.28655090e+07 2.18391210e+07 ... 1.28642490e+07\n",
            "  3.11106580e+07 2.66736540e+07]]\n"
          ],
          "name": "stdout"
        }
      ]
    },
    {
      "cell_type": "code",
      "metadata": {
        "id": "CkCsnOqJGOi6",
        "outputId": "62b9cdec-8d65-4e87-ae5d-9771d60edebc"
      },
      "source": [
        "print(dist)\n",
        "print(dist.shape)"
      ],
      "execution_count": null,
      "outputs": [
        {
          "output_type": "stream",
          "text": [
            "[[ 4547.14778735  5016.46708352  6028.75592473 ...  4878.43356007\n",
            "   5004.97542452  5569.53849075]\n",
            " [ 8575.7748921   7452.95270346  7374.31678191 ...  7231.13905274\n",
            "   9966.65064101 10043.36801078]\n",
            " [ 5735.68191238  5482.18095287  5495.10982602 ...  4033.69706349\n",
            "   7014.60398027  6280.59909563]\n",
            " ...\n",
            " [ 5727.4780663   5344.05557606  3885.38672464 ...  4602.49475828\n",
            "   5145.71345879  4999.11862232]\n",
            " [ 5936.74658378  4846.08099396  4537.25743153 ...  4643.59957361\n",
            "   6523.91431581  6903.06815844]\n",
            " [ 4785.04252855  4781.78930945  4673.23453295 ...  3586.6765954\n",
            "   5577.69289223  5164.65429627]]\n",
            "(2000, 8000)\n"
          ],
          "name": "stdout"
        }
      ]
    },
    {
      "cell_type": "markdown",
      "metadata": {
        "id": "rqjCExmnGOi6"
      },
      "source": [
        "## kppv_predict"
      ]
    },
    {
      "cell_type": "markdown",
      "metadata": {
        "id": "R_KAaMpPGOi6"
      },
      "source": [
        "### Cette fonction prédit la classe pour chaque instance du jeu de test, en se basant sur ses k plus proches voisins (obtenus par la matrice de distances). On peut prendre une valeur de K = 3 pour commencer."
      ]
    },
    {
      "cell_type": "code",
      "metadata": {
        "id": "I60G8UioGOi7"
      },
      "source": [
        "k=3\n",
        "def kppv_predict(Dist, Yapp, K):\n",
        "    N=dist.shape[0]\n",
        "    Ypred=np.zeros(N,dtype=int)\n",
        "    \n",
        "    for i in range(N):\n",
        "        kppv=Yapp1[dist[i,:].argsort()[:K]]\n",
        "        Ypred[i]=np.argmax(np.bincount(kppv))\n",
        "        \n",
        "    return Ypred"
      ],
      "execution_count": null,
      "outputs": []
    },
    {
      "cell_type": "code",
      "metadata": {
        "id": "pADkvroTGOi9",
        "outputId": "e79e55cf-8a59-4d7d-a618-045684f6fd5e"
      },
      "source": [
        "Ypred=kppv_predict(dist, Yapp1,k )\n",
        "print(Ypred)"
      ],
      "execution_count": null,
      "outputs": [
        {
          "output_type": "stream",
          "text": [
            "[2 0 0 ... 2 8 2]\n"
          ],
          "name": "stdout"
        }
      ]
    },
    {
      "cell_type": "markdown",
      "metadata": {
        "id": "MEPMc7DWGOi-"
      },
      "source": [
        "### Il faut maintenant évaluer les performances du classifieur. Un classifieur est bon si son 'accuracy' est grand, c'est-à-dire s'il arrive à correctement prédire la classe des instances du jeu de test."
      ]
    },
    {
      "cell_type": "markdown",
      "metadata": {
        "id": "TRdyd2SOGOi-"
      },
      "source": [
        "## Evaluation_classifieur"
      ]
    },
    {
      "cell_type": "code",
      "metadata": {
        "id": "MR8L-YqoGOi_"
      },
      "source": [
        "def evaluation_classifieur(Ytest1,Ypred):\n",
        "    \n",
        "    return (Ytest1==Ypred).sum()/Ytest1.shape[0]\n",
        "\n"
      ],
      "execution_count": null,
      "outputs": []
    },
    {
      "cell_type": "code",
      "metadata": {
        "id": "8w2rBZSOGOi_",
        "outputId": "6ba0c4a4-a7c7-4ef0-d14d-46d7987a41aa"
      },
      "source": [
        "accuracy = evaluation_classifieur(Ypred, Ytest1)\n",
        "print(\"L'accuracy du classifieur est de\", accuracy)"
      ],
      "execution_count": null,
      "outputs": [
        {
          "output_type": "stream",
          "text": [
            "L'accuracy du classifieur est de 0.2815\n"
          ],
          "name": "stdout"
        }
      ]
    },
    {
      "cell_type": "markdown",
      "metadata": {
        "id": "t_xH2rLqGOjA"
      },
      "source": [
        "### Seuls 10,7 % des instances sont bien classées. Néanmoins, on peut reltiviser ce résultat: la résolution des images est très faible (32x32), les images sont très pixellisées. On peut supposer qu'avec une meilleure résolution, l'accuracy sera meilleure."
      ]
    },
    {
      "cell_type": "markdown",
      "metadata": {
        "id": "NchJxCuxGOjB"
      },
      "source": [
        "##  Expérimentations"
      ]
    },
    {
      "cell_type": "markdown",
      "metadata": {
        "id": "JAiHpAnDGOjC"
      },
      "source": [
        "### Le nombre de voisins à considérer peut avoir une influence sur l'accuracy. Pour le voir, traçons l'accuracy en fonction de K:"
      ]
    },
    {
      "cell_type": "code",
      "metadata": {
        "id": "MlxUBDWyGOjC"
      },
      "source": [
        "# influence du nombre de voisins K \n",
        "#sur l'efficacité du classifieur évaluée à l'aide du taux de classification (Accuracy).\n",
        "\n",
        "Ks = []\n",
        "accuracies = []\n",
        "for K in range (1,10):\n",
        "    Ypred = kppv_predict(dist, Yapp1, K)\n",
        "    accuracy = evaluation_classifieur( Ytest1,Ypred)\n",
        "    Ks.append(K)\n",
        "    accuracies.append(accuracy)"
      ],
      "execution_count": null,
      "outputs": []
    },
    {
      "cell_type": "code",
      "metadata": {
        "id": "DNkqcid3GOjC",
        "outputId": "d4707a9c-928c-414d-a98f-f3342c371669"
      },
      "source": [
        "import matplotlib.pyplot as plt\n",
        "plt.plot(Ks, accuracies, 'o')\n",
        "plt.title('Accuracy vs K')\n",
        "plt.show()"
      ],
      "execution_count": null,
      "outputs": [
        {
          "output_type": "display_data",
          "data": {
            "image/png": "[encoded data removed]",
            "text/plain": [
              "<Figure size 432x288 with 1 Axes>"
            ]
          },
          "metadata": {
            "tags": [],
            "needs_background": "light"
          }
        }
      ]
    },
    {
      "cell_type": "code",
      "metadata": {
        "id": "LFM5s13sGOjC",
        "outputId": "172e3360-b598-4aeb-e3c4-d4e67f022713"
      },
      "source": [
        "best_K = np.argmax(accuracies)+1\n",
        "print(\"La valeur de K qui donne le meilleur score d'accuracy est K = \", best_K)"
      ],
      "execution_count": null,
      "outputs": [
        {
          "output_type": "stream",
          "text": [
            "La valeur de K qui donne le meilleur score d'accuracy est K =  1\n"
          ],
          "name": "stdout"
        }
      ]
    },
    {
      "cell_type": "markdown",
      "metadata": {
        "id": "mXEi_JNQGOjE"
      },
      "source": [
        "### On garde alors la valeur de K = 1 pour la suite."
      ]
    },
    {
      "cell_type": "markdown",
      "metadata": {
        "id": "PLGrWD3qGOjE"
      },
      "source": [
        "## Validation croisée"
      ]
    },
    {
      "cell_type": "markdown",
      "metadata": {
        "id": "WaWUL6DBGOjE"
      },
      "source": [
        "### Il faut également vérifier que notre algorithme de classification n'a pas fait du surapprentissage (overtiffing). Pour cela, on fait de la validation croisée à 10 échantillons.\n",
        "\n",
        "### On définit tout d'abord une fonction run_classifier qui réunit les fonctions définies précédemment."
      ]
    },
    {
      "cell_type": "code",
      "metadata": {
        "id": "vov86uLlGOjF"
      },
      "source": [
        "def run_classifier(Xapp, Yapp, Xtest, Ytest, K):\n",
        "    dist = kppv_distances(Xapp1, Xtest1)\n",
        "    dist = np.sqrt(dist)\n",
        "    Ypred = kppv_predict(dist, Yapp1, K)\n",
        "    accuracy = evaluation_classifieur(Ypred, Ytest1)\n",
        "    return Ypred, accuracy"
      ],
      "execution_count": null,
      "outputs": []
    },
    {
      "cell_type": "code",
      "metadata": {
        "id": "9hTE7oE7GOjG",
        "outputId": "2d9560f2-c95e-4bca-c627-b65279168e42"
      },
      "source": [
        "from sklearn.model_selection import KFold\n",
        "N=4\n",
        "kf = KFold(n_splits=N)\n",
        "predictions = []\n",
        "accuracies = []\n",
        "for train_index, test_index in kf.split(Xapp1):\n",
        "    Xapp2, Xtest2 = Xapp1[train_index], Xapp1[test_index]\n",
        "    Yapp2, Ytest2 = Yapp1[train_index], Yapp1[test_index]\n",
        "    Ypred2, accuracy2 = run_classifier(Xapp2, Yapp2, Xtest2, Ytest2, best_K)\n",
        "    accuracies.append(accuracy2)\n",
        "    \n",
        "print('La moyenne des accuracies est ', np.mean(accuracies))"
      ],
      "execution_count": null,
      "outputs": [
        {
          "output_type": "stream",
          "text": [
            "La moyenne des accuracies est  0.2885\n"
          ],
          "name": "stdout"
        }
      ]
    }
  ]
}